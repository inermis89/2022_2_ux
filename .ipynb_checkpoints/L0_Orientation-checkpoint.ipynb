{
 "cells": [
  {
   "cell_type": "markdown",
   "id": "0665cb4e",
   "metadata": {
    "slideshow": {
     "slide_type": "slide"
    }
   },
   "source": [
    "# UX와 서비스기획\n",
    "\n",
    "## Orientation\n",
    "\n",
    "이민섭(서울대학교 인지과학 협동과정)"
   ]
  },
  {
   "cell_type": "markdown",
   "id": "974069dc",
   "metadata": {
    "slideshow": {
     "slide_type": "slide"
    }
   },
   "source": [
    "## 강의를 시작하며"
   ]
  },
  {
   "cell_type": "markdown",
   "id": "57443611",
   "metadata": {
    "cell_style": "center",
    "slideshow": {
     "slide_type": "slide"
    }
   },
   "source": [
    "## 강의 소개\n",
    "\n",
    "0. Orientation(L0)\n",
    "1. 서비스의 존재론(L1~2강)\n",
    "2. 서비스의 발생과 구조, 그리고 진화(L3~4강)\n",
    "3. 서비스의 적응성(L5~6강)\n",
    "4. 서비스의 맥락성(L7~8강)"
   ]
  },
  {
   "cell_type": "markdown",
   "id": "d7d19de9",
   "metadata": {
    "slideshow": {
     "slide_type": "subslide"
    }
   },
   "source": [
    "## 1. 서비스의 존재론(L1~2강)\n",
    "\n",
    "- 문화진화론 일반\n",
    "- 진화의 공간\n",
    "- 성공하는 서비스\n",
    "- 서비스와 인간과의 관계"
   ]
  },
  {
   "cell_type": "markdown",
   "id": "bf8f9798",
   "metadata": {
    "slideshow": {
     "slide_type": "fragment"
    }
   },
   "source": [
    "### References\n",
    "\n",
    "- [1] Dennett, 노승영, & 장대익. (2015). 직관펌프 생각을 열다 : 대니얼 데닛의 77가지 생각도구 / 대니얼 데닛 지음 ; 노승영 옮김 ; 장대익 해설.\n",
    "- [2] 이정동. (2017). 인공물의 진화 / 이정동 외 지음. ch.2 \"인공물의 진화와 혁신, 비유를 넘어서\" 장대익, 이민섭"
   ]
  },
  {
   "cell_type": "markdown",
   "id": "1d8d2e4a",
   "metadata": {
    "slideshow": {
     "slide_type": "subslide"
    }
   },
   "source": [
    "## 2. 서비스의 발생과 구조, 그리고 진화(L3~4강)\n",
    "\n",
    "- 팀이 서비스를 만드는 과정 \n",
    "- 구조적으로 강건한 서비스, 모듈 구조의 진화"
   ]
  },
  {
   "cell_type": "markdown",
   "id": "e43203d2",
   "metadata": {
    "slideshow": {
     "slide_type": "fragment"
    }
   },
   "source": [
    "### References\n",
    "\n",
    "- [1] "
   ]
  },
  {
   "cell_type": "markdown",
   "id": "88c93229",
   "metadata": {
    "slideshow": {
     "slide_type": "subslide"
    }
   },
   "source": [
    "## 3. 서비스의 적응성(L5~6강)\n",
    "\n",
    "- 진화심리학과 서비스\n",
    "- 생애사 이론, 근본동기 이론 그리고 서비스"
   ]
  },
  {
   "cell_type": "markdown",
   "id": "5d24d424",
   "metadata": {
    "slideshow": {
     "slide_type": "fragment"
    }
   },
   "source": [
    "### References\n",
    "\n",
    "- [1] Buss, & 이충호. (2012). 진화심리학 : 마음과 행동을 탐구하는 새로운 과학 / 데이비드 버스 지음 ; 이충호 옮김.\n",
    "- [2] Kenrick, Neuberg, Cialdini, 김아영, Neuberg, Steven L, & Cialdini, Robert B. (2020). 사회심리학 : 마음과 행동을 결정하는 사회적 상황의 힘 / 로버트 치알디니, 더글러스 켄릭, 스티븐 뉴버그 지음 ; 김아영 옮김"
   ]
  },
  {
   "cell_type": "markdown",
   "id": "188714b4",
   "metadata": {
    "slideshow": {
     "slide_type": "subslide"
    }
   },
   "source": [
    "## 4. 서비스의 맥락성(L7~8강)\n",
    "\n",
    "- 서비스의 맥락효과\n",
    "- 네트워크 효과"
   ]
  },
  {
   "cell_type": "markdown",
   "id": "1a91445b",
   "metadata": {
    "slideshow": {
     "slide_type": "fragment"
    }
   },
   "source": [
    "### References\n",
    "\n",
    "- [1] Richerson, Boyd, 김준홍., Boyd, Robert, & 김준홍. (2009). 유전자만이 아니다 : 문화가 어떻게 인간 진화의 경로를 바꾸었는가 / 피터 J. 리처슨, 로버트 보이드 [공]지음 ; 김준홍 옮김.\n",
    "- [2] Jackson, & 박선진. (2021). 휴먼 네트워크 : 무리 짓고 분열하는 인간관계의 모든 것 / 매슈 O 잭슨 지음 ; 박선진 옮김."
   ]
  },
  {
   "cell_type": "markdown",
   "id": "3dfaf0e4",
   "metadata": {
    "slideshow": {
     "slide_type": "slide"
    }
   },
   "source": [
    "## 강의 방식"
   ]
  },
  {
   "cell_type": "code",
   "execution_count": 4,
   "id": "40d6a563",
   "metadata": {
    "slideshow": {
     "slide_type": "slide"
    }
   },
   "outputs": [
    {
     "data": {
      "text/html": [
       "\n",
       "        <iframe\n",
       "            width=\"1000\"\n",
       "            height=\"400\"\n",
       "            src=\"https://wall.sli.do/event/1bLfjpfVAEuaqBbLFvp9sL\"\n",
       "            frameborder=\"0\"\n",
       "            allowfullscreen\n",
       "            \n",
       "        ></iframe>\n",
       "        "
      ],
      "text/plain": [
       "<IPython.lib.display.IFrame at 0x7f895f79cd30>"
      ]
     },
     "execution_count": 4,
     "metadata": {},
     "output_type": "execute_result"
    }
   ],
   "source": [
    "from IPython.display import IFrame\n",
    "IFrame(\"https://wall.sli.do/event/1bLfjpfVAEuaqBbLFvp9sL\", width=\"1000\", height=\"400\")\n"
   ]
  }
 ],
 "metadata": {
  "celltoolbar": "Slideshow",
  "kernelspec": {
   "display_name": "Python 3 (ipykernel)",
   "language": "python",
   "name": "python3"
  },
  "language_info": {
   "codemirror_mode": {
    "name": "ipython",
    "version": 3
   },
   "file_extension": ".py",
   "mimetype": "text/x-python",
   "name": "python",
   "nbconvert_exporter": "python",
   "pygments_lexer": "ipython3",
   "version": "3.9.7"
  }
 },
 "nbformat": 4,
 "nbformat_minor": 5
}
