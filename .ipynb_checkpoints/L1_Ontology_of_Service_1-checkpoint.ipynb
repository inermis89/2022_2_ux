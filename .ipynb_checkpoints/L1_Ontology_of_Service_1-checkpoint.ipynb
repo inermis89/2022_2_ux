{
 "cells": [
  {
   "cell_type": "markdown",
   "id": "e6742d3f",
   "metadata": {
    "slideshow": {
     "slide_type": "slide"
    }
   },
   "source": [
    "# L1 Ontology of Service 1\n",
    "\n",
    "이민섭(서울대학교 인지과학 협동과정)"
   ]
  },
  {
   "cell_type": "markdown",
   "id": "81fdfbd8",
   "metadata": {
    "slideshow": {
     "slide_type": "slide"
    }
   },
   "source": [
    "## 문화진화론\n",
    "\n",
    "- Universal Darwinism"
   ]
  },
  {
   "cell_type": "markdown",
   "id": "071741da",
   "metadata": {},
   "source": [
    "```mermaid\n",
    "\n",
    "\n",
    "\n",
    "```"
   ]
  },
  {
   "cell_type": "code",
   "execution_count": null,
   "id": "e4c4fa3f",
   "metadata": {},
   "outputs": [],
   "source": []
  },
  {
   "cell_type": "markdown",
   "id": "2ec04a85",
   "metadata": {
    "slideshow": {
     "slide_type": "slide"
    }
   },
   "source": [
    "## 바벨의 도서관\n",
    "\n",
    "![바벨의 도서관](http://newsimg.hankookilbo.com/2019/02/11/201902111594754423_10.jpg)"
   ]
  },
  {
   "cell_type": "code",
   "execution_count": null,
   "id": "8094571f",
   "metadata": {
    "slideshow": {
     "slide_type": "slide"
    }
   },
   "outputs": [],
   "source": []
  }
 ],
 "metadata": {
  "celltoolbar": "Slideshow",
  "kernelspec": {
   "display_name": "Python 3 (ipykernel)",
   "language": "python",
   "name": "python3"
  },
  "language_info": {
   "codemirror_mode": {
    "name": "ipython",
    "version": 3
   },
   "file_extension": ".py",
   "mimetype": "text/x-python",
   "name": "python",
   "nbconvert_exporter": "python",
   "pygments_lexer": "ipython3",
   "version": "3.9.7"
  }
 },
 "nbformat": 4,
 "nbformat_minor": 5
}
