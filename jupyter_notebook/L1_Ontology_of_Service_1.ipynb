{
 "cells": [
  {
   "cell_type": "markdown",
   "id": "e6742d3f",
   "metadata": {
    "slideshow": {
     "slide_type": "slide"
    }
   },
   "source": [
    "# L1. Ontology of Service 1\n",
    "\n",
    "- 문화진화론 일반\n",
    "- 진화의 공간\n",
    "\n",
    "이민섭(서울대학교 인지과학 협동과정)"
   ]
  },
  {
   "cell_type": "markdown",
   "id": "b71bc992",
   "metadata": {},
   "source": [
    "## 강의를 시작하며"
   ]
  },
  {
   "cell_type": "markdown",
   "id": "81fdfbd8",
   "metadata": {
    "slideshow": {
     "slide_type": "slide"
    }
   },
   "source": [
    "## 문화진화론 일반\n",
    "\n",
    "- 문화란 무엇인가?\n",
    "- Universal Darwinism"
   ]
  },
  {
   "cell_type": "markdown",
   "id": "2cc0863d",
   "metadata": {},
   "source": [
    "## 진화의 공간"
   ]
  },
  {
   "cell_type": "markdown",
   "id": "df6d3f08",
   "metadata": {
    "slideshow": {
     "slide_type": "slide"
    }
   },
   "source": [
    "## 화덕 만두 메뉴 구별법"
   ]
  },
  {
   "cell_type": "markdown",
   "id": "29a32a85",
   "metadata": {
    "cell_style": "center",
    "slideshow": {
     "slide_type": "fragment"
    }
   },
   "source": [
    "- 메뉴\n",
    "\n",
    "![메뉴판](https://www.changupdo.com/data/franchise/11076/2083770158_jpaXFIdc_EB8BA4EC9AB4EBA19CEB939C_-_2021-01-15T231845.319.jpg)"
   ]
  },
  {
   "cell_type": "markdown",
   "id": "31207518",
   "metadata": {
    "cell_style": "center",
    "slideshow": {
     "slide_type": "subslide"
    }
   },
   "source": [
    "- 화덕 속 만두\n",
    "\n",
    "![화덕 속의 만두](http://pds27.egloos.com/pds/201302/03/08/a0015808_510e5b1e59f10.jpg)"
   ]
  },
  {
   "cell_type": "markdown",
   "id": "badf6e9b",
   "metadata": {
    "slideshow": {
     "slide_type": "fragment"
    }
   },
   "source": [
    "네 가지 메뉴를 사장님 또는 손님이 구분할 수 있는 방법은?"
   ]
  },
  {
   "cell_type": "markdown",
   "id": "1f0306fc",
   "metadata": {
    "slideshow": {
     "slide_type": "slide"
    }
   },
   "source": [
    "## 유한한 세계에서 무한을 생성하는 법"
   ]
  },
  {
   "cell_type": "markdown",
   "id": "9f1c0a13",
   "metadata": {
    "cell_style": "center",
    "slideshow": {
     "slide_type": "subslide"
    }
   },
   "source": [
    "#### 정답🙋\n",
    "\n",
    "- 흰깨(0)와 검은깨(1)만 있으면 됨\n",
    "- 11, 10, 01, 00\n",
    "\n",
    "\n",
    "$$ {참깨의\\:종류}^2 = 메뉴의\\:종류 $$\n",
    "$$ 2^2 = 4 $$\n",
    "\n",
    "- 유일한 방법은 아님"
   ]
  },
  {
   "cell_type": "markdown",
   "id": "4abc6f51",
   "metadata": {
    "cell_style": "center",
    "slideshow": {
     "slide_type": "subslide"
    }
   },
   "source": [
    "![메뉴판 정답](https://www.menupan.com/common/service/img_proxy.asp?src=http%3A%2F%2Fblogfiles.naver.net%2F20140425_294%2Fjylhee0704_1398423598799G1WP0_JPEG%2FP4251672.jpg)"
   ]
  },
  {
   "cell_type": "markdown",
   "id": "2ec04a85",
   "metadata": {
    "slideshow": {
     "slide_type": "slide"
    }
   },
   "source": [
    "## 바벨의 도서관\n",
    "\n",
    "![바벨의 도서관](http://newsimg.hankookilbo.com/2019/02/11/201902111594754423_10.jpg)"
   ]
  },
  {
   "cell_type": "markdown",
   "id": "436cb437",
   "metadata": {
    "slideshow": {
     "slide_type": "slide"
    }
   },
   "source": [
    "## Vanishingly small, Vastly\n",
    "\n",
    "- Vanishingly small: **없**다고 할 정도로 **작은**, *없작은*\n",
    "- Vastly : **천**문학적으로 **많은**, *천많은*\n",
    "\n"
   ]
  },
  {
   "cell_type": "code",
   "execution_count": null,
   "id": "adcb9dc4",
   "metadata": {},
   "outputs": [],
   "source": []
  }
 ],
 "metadata": {
  "celltoolbar": "Slideshow",
  "kernelspec": {
   "display_name": "Python 3 (ipykernel)",
   "language": "python",
   "name": "python3"
  },
  "language_info": {
   "codemirror_mode": {
    "name": "ipython",
    "version": 3
   },
   "file_extension": ".py",
   "mimetype": "text/x-python",
   "name": "python",
   "nbconvert_exporter": "python",
   "pygments_lexer": "ipython3",
   "version": "3.9.7"
  }
 },
 "nbformat": 4,
 "nbformat_minor": 5
}
